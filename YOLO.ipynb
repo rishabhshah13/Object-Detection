{
 "cells": [
  {
   "cell_type": "markdown",
   "metadata": {},
   "source": [
    "pip install ultralytics\n",
    "\n",
    "pip install xmltodict"
   ]
  },
  {
   "cell_type": "code",
   "execution_count": null,
   "metadata": {},
   "outputs": [],
   "source": [
    "# import os\n",
    "# import xmltodict\n",
    "\n",
    "\n",
    "# def convert_coco_to_yolo(coco_xml_dir, yolo_txt_dir, class_mapping):\n",
    "#     for filename in os.listdir(coco_xml_dir):\n",
    "#         if filename.endswith(\".xml\"):\n",
    "#             with open(os.path.join(coco_xml_dir, filename), 'r') as file:\n",
    "#                 data = xmltodict.parse(file.read())\n",
    "\n",
    "#             img_width = int(data['annotation']['size']['width'])\n",
    "#             img_height = int(data['annotation']['size']['height'])\n",
    "\n",
    "#             yolo_txt_path = os.path.join(yolo_txt_dir, filename.replace(\".xml\", \".txt\"))\n",
    "\n",
    "#             with open(yolo_txt_path, 'w') as file:\n",
    "#                 for obj in data['annotation']['object']:\n",
    "#                     class_name = obj['name']\n",
    "#                     class_id = class_mapping.get(class_name)\n",
    "                    \n",
    "#                     if class_id is not None:\n",
    "#                         x_min = int(obj['bndbox']['xmin'])\n",
    "#                         y_min = int(obj['bndbox']['ymin'])\n",
    "#                         x_max = int(obj['bndbox']['xmax'])\n",
    "#                         y_max = int(obj['bndbox']['ymax'])\n",
    "\n",
    "#                         x_center = (x_min + x_max) / 2 / img_width\n",
    "#                         y_center = (y_min + y_max) / 2 / img_height\n",
    "#                         width = (x_max - x_min) / img_width\n",
    "#                         height = (y_max - y_min) / img_height\n",
    "\n",
    "#                         file.write(f\"{class_id} {x_center:.6f} {y_center:.6f} {width:.6f} {height:.6f}\\n\")\n",
    "\n",
    "# # Example usage\n",
    "# class_mapping = {\n",
    "#     'Freight': 0,\n",
    "#     # Add more class mappings as needed\n",
    "# }\n",
    "\n",
    "# coco_xml_dir = '/Users/rishabhshah/Desktop/AIPI590/Project2/DatasetDetectron2/annotations'\n",
    "# yolo_txt_dir = '/Users/rishabhshah/Desktop/AIPI590/Project2/DatasetDetectron2/annotations/outputYOLO.json'\n",
    "\n",
    "# convert_coco_to_yolo(coco_xml_dir, yolo_txt_dir, class_mapping)"
   ]
  },
  {
   "cell_type": "code",
   "execution_count": null,
   "metadata": {},
   "outputs": [],
   "source": [
    "# pip install pylabel"
   ]
  },
  {
   "cell_type": "code",
   "execution_count": null,
   "metadata": {},
   "outputs": [],
   "source": [
    "import os \n",
    "import zipfile\n",
    "from pylabel import importer\n",
    "\n",
    "\n",
    "#Specify path to the coco.json file\n",
    "path_to_annotations = \"/Users/rishabhshah/Desktop/AIPI590/Project2/DatasetDetectron2/annotations/output.json\"\n",
    "#Specify the path to the images (if they are in a different folder than the annotations)\n",
    "path_to_images = \"/Users/rishabhshah/Desktop/AIPI590/Project2/MergeDataset/train\"\n",
    "\n",
    "#Import the dataset into the pylable schema \n",
    "dataset = importer.ImportCoco(path_to_annotations, path_to_images=path_to_images, name=\"BCCD_coco\")\n",
    "dataset.df.head(5)"
   ]
  },
  {
   "cell_type": "code",
   "execution_count": null,
   "metadata": {},
   "outputs": [],
   "source": [
    "print(f\"Number of images: {dataset.analyze.num_images}\")\n",
    "print(f\"Number of classes: {dataset.analyze.num_classes}\")\n",
    "print(f\"Classes:{dataset.analyze.classes}\")\n",
    "print(f\"Class counts:\\n{dataset.analyze.class_counts}\")"
   ]
  },
  {
   "cell_type": "code",
   "execution_count": null,
   "metadata": {},
   "outputs": [],
   "source": [
    "# https://github.com/pylabel-project/samples/blob/main/dataset_splitting.ipynb\n",
    "\n",
    "dataset.splitter.GroupShuffleSplit(train_pct=.6, val_pct=.2, test_pct=.2)\n",
    "dataset.analyze.ShowClassSplits()\n",
    "\n",
    "dataset.export.ExportToYoloV5(output_path='/Users/rishabhshah/Desktop/AIPI590/Project2/trainingsplit/labels',yaml_file='/Users/rishabhshah/Desktop/AIPI590/Project2/trainingsplit/dataset.yaml', copy_images=True, use_splits=True)\n"
   ]
  },
  {
   "cell_type": "code",
   "execution_count": null,
   "metadata": {},
   "outputs": [],
   "source": [
    "# https://github.com/pylabel-project/samples/blob/main/coco2yolov5.ipynb\n",
    "dataset.path_to_annotations = \"data/yolo\"\n",
    "dataset.export.ExportToYoloV5()[0]"
   ]
  },
  {
   "cell_type": "code",
   "execution_count": null,
   "metadata": {},
   "outputs": [],
   "source": []
  },
  {
   "cell_type": "code",
   "execution_count": null,
   "metadata": {},
   "outputs": [],
   "source": []
  },
  {
   "cell_type": "code",
   "execution_count": null,
   "metadata": {},
   "outputs": [],
   "source": []
  },
  {
   "cell_type": "code",
   "execution_count": null,
   "metadata": {},
   "outputs": [],
   "source": [
    "import os\n",
    "\n",
    "from ultralytics import YOLO\n",
    "\n",
    "ROOT_DIR = '/Users/rishabhshah/Desktop/AIPI590/Project2/trainingsplit'\n",
    "# ROOT_DIR = '/Users/rishabhshah/Desktop/AIPI590/Project2/training'\n",
    "\n",
    "\n",
    "# Load a model\n",
    "# model = YOLO(\"yolov8n.yaml\")  # build a new model from scratch\n",
    "model = YOLO('yolov8n.pt')\n",
    "\n",
    "# Use the model\n",
    "results = model.train(data=os.path.join(ROOT_DIR, \"dataset.yaml\"), epochs=1)  # train the model "
   ]
  },
  {
   "cell_type": "code",
   "execution_count": null,
   "metadata": {},
   "outputs": [],
   "source": []
  }
 ],
 "metadata": {
  "kernelspec": {
   "display_name": "Python 3",
   "language": "python",
   "name": "python3"
  },
  "language_info": {
   "codemirror_mode": {
    "name": "ipython",
    "version": 3
   },
   "file_extension": ".py",
   "mimetype": "text/x-python",
   "name": "python",
   "nbconvert_exporter": "python",
   "pygments_lexer": "ipython3",
   "version": "3.11.8"
  }
 },
 "nbformat": 4,
 "nbformat_minor": 2
}
