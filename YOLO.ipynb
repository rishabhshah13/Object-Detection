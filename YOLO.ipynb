{
 "cells": [
  {
   "cell_type": "markdown",
   "metadata": {},
   "source": [
    "1. conda create --prefix \"C:\\\\Users\\\\rs659\\\\Desktop\\\\Object-Detection\\\\wincondaprojenv\" python=3.11.6  \n",
    "2. conda activate \"C:\\\\Users\\\\rs659\\\\Desktop\\\\Object-Detection\\\\wincondaprojenv\"\n",
    "3. pip install torch==2.0.1 torchvision==0.15.2 torchaudio==2.0.2 --index-url https://download.pytorch.org/whl/cu118\n",
    "4. conda install -p c:\\Users\\rs659\\Desktop\\Object-Detection\\wincondaprojenv ipykernel --update-deps --force-reinstall\n",
    "\n",
    "\n",
    "pip install torch==2.1.0 torchvision==0.16.0 torchaudio==2.1.0 --index-url https://download.pytorch.org/whl/cu121\n",
    "conda install -p c:\\Users\\rs659\\Desktop\\Object-Detection\\wincondaprojenv ipykernel --update-deps --force-reinstall\n",
    "\n",
    "5. pip install pybind11\n",
    "6. pip install opencv-python\n",
    "7. pip instal ultralytics\n",
    "8. pip install pylabel\n",
    "\n",
    "\n",
    "\n",
    "\n",
    "Merge Different COCO dataset\n",
    "https://gradiant.github.io/pyodi/reference/apps/coco-merge/\n",
    "pyodi coco merge coco_1.json coco_2.json output.json\n"
   ]
  },
  {
   "cell_type": "code",
   "execution_count": null,
   "metadata": {},
   "outputs": [],
   "source": [
    "import os\n",
    "import zipfile\n",
    "from pylabel import importer\n",
    "import shutil"
   ]
  },
  {
   "cell_type": "code",
   "execution_count": null,
   "metadata": {},
   "outputs": [],
   "source": [
    "import os\n",
    "from pylabel import importer\n",
    "\n",
    "def import_dataset(path_to_annotations, path_to_images, dataset_name):\n",
    "    dataset = importer.ImportCoco(path_to_annotations, path_to_images=path_to_images, name=dataset_name)\n",
    "    return dataset\n",
    "\n",
    "def split_and_export(dataset, output_path):\n",
    "    # dataset.splitter.GroupShuffleSplit(train_pct=.6, val_pct=.2, test_pct=.2)\n",
    "    dataset.export.ExportToYoloV5(output_path=output_path, yaml_file='dataset.yaml', copy_images=True)\n",
    "\n",
    "# For train dataset\n",
    "train_annotations = \"COCOAnnotations/train.json\"\n",
    "train_images = os.getcwd() + \"/MergeDataset/\"\n",
    "train_dataset = import_dataset(train_annotations, train_images, \"BCCD_coco\")\n",
    "split_and_export(train_dataset, 'YOLO_dataset_train/labels')\n",
    "\n",
    "# For test dataset\n",
    "test_annotations = \"COCOAnnotations/test.json\"\n",
    "test_images = os.getcwd() + \"/MergeDataset/\"  # Assuming test images are in the same folder as train images\n",
    "test_dataset = import_dataset(test_annotations, test_images, \"BCCD_coco\")\n",
    "split_and_export(test_dataset, 'YOLO_dataset_test/labels')\n"
   ]
  },
  {
   "cell_type": "code",
   "execution_count": null,
   "metadata": {},
   "outputs": [],
   "source": [
    "import os\n",
    "import shutil\n",
    "from pathlib import Path\n",
    "\n",
    "# Define source and destination paths\n",
    "test_source = 'YOLO_dataset_test/labels'\n",
    "train_source = 'YOLO_dataset_train/labels'\n",
    "test_dest = 'YOLO_dataset/labels/test'\n",
    "train_dest = 'YOLO_dataset/labels/train'\n",
    "source_file = \"COCOAnnotations/dataset.yaml\"\n",
    "destination_dir = \"YOLO_dataset\"\n",
    "\n",
    "# Create main directories\n",
    "os.makedirs('YOLO_dataset/images/train', exist_ok=True)\n",
    "os.makedirs('YOLO_dataset/images/test', exist_ok=True)\n",
    "\n",
    "# Copy images from test and train directories\n",
    "shutil.copytree('YOLO_dataset_test/images', 'YOLO_dataset/images/test', dirs_exist_ok=True)\n",
    "shutil.copytree('YOLO_dataset_train/images', 'YOLO_dataset/images/train', dirs_exist_ok=True)\n",
    "\n",
    "# Copy label directories\n",
    "try:\n",
    "    shutil.copytree(test_source, test_dest)\n",
    "    shutil.copytree(train_source, train_dest)\n",
    "    print(\"Directories copied successfully!\")\n",
    "except FileExistsError:\n",
    "    print(\"Destination directories already exist. Remove or rename them and try again.\")\n",
    "except Exception as e:\n",
    "    print(f\"An error occurred: {e}\")\n",
    "\n",
    "# Copy dataset.yaml file\n",
    "shutil.copy(source_file, destination_dir)\n",
    "\n",
    "shutil.rmtree('YOLO_dataset_test')\n",
    "shutil.rmtree('YOLO_dataset_train')"
   ]
  },
  {
   "cell_type": "code",
   "execution_count": 4,
   "metadata": {},
   "outputs": [],
   "source": [
    "import os\n",
    "from ultralytics import YOLO\n",
    "\n",
    "ROOT_DIR = '/Users/rishabhshah/Desktop/AIPI590/Object-Detection/YOLO_dataset'\n",
    "# ROOT_DIR = os.getcwd() + 'YOLO_dataset'\n",
    "\n",
    "\n",
    "# Load a model\n",
    "# model = YOLO(\"yolov8n.yaml\")  # build a new model from scratch\n",
    "model = YOLO('yolov8n.pt')\n",
    "\n",
    "\n",
    "# Use the model\n",
    "results = model.train(data=os.path.join(ROOT_DIR, \"dataset.yaml\"), epochs=1,project='saved_models/YOLO/')  # train the model "
   ]
  },
  {
   "cell_type": "code",
   "execution_count": null,
   "metadata": {},
   "outputs": [],
   "source": []
  }
 ],
 "metadata": {
  "kernelspec": {
   "display_name": "Python 3",
   "language": "python",
   "name": "python3"
  },
  "language_info": {
   "codemirror_mode": {
    "name": "ipython",
    "version": 3
   },
   "file_extension": ".py",
   "mimetype": "text/x-python",
   "name": "python",
   "nbconvert_exporter": "python",
   "pygments_lexer": "ipython3",
   "version": "3.11.8"
  }
 },
 "nbformat": 4,
 "nbformat_minor": 2
}
