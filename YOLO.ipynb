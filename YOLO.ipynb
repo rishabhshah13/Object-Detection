{
 "cells": [
  {
   "cell_type": "markdown",
   "metadata": {},
   "source": [
    "# Create YOLO Dataset"
   ]
  },
  {
   "cell_type": "code",
   "execution_count": null,
   "metadata": {},
   "outputs": [],
   "source": [
    "import os\n",
    "import zipfile\n",
    "from pylabel import importer\n",
    "import shutil"
   ]
  },
  {
   "cell_type": "code",
   "execution_count": null,
   "metadata": {},
   "outputs": [],
   "source": [
    "import os\n",
    "from pylabel import importer\n",
    "\n",
    "def import_dataset(path_to_annotations, path_to_images, dataset_name):\n",
    "    dataset = importer.ImportCoco(path_to_annotations, path_to_images=path_to_images, name=dataset_name)\n",
    "    return dataset\n",
    "\n",
    "def split_and_export(dataset, output_path):\n",
    "    # dataset.splitter.GroupShuffleSplit(train_pct=.6, val_pct=.2, test_pct=.2)\n",
    "    dataset.export.ExportToYoloV5(output_path=output_path, yaml_file='dataset.yaml', copy_images=True)\n",
    "\n",
    "# For train dataset\n",
    "train_annotations = \"COCOAnnotations/trainnew.json\"\n",
    "train_images = os.getcwd() + \"/MergeDataset/\"\n",
    "train_dataset = import_dataset(train_annotations, train_images, \"BCCD_coco\")\n",
    "split_and_export(train_dataset, 'YOLO_dataset_train/labels')\n",
    "\n",
    "# For test dataset\n",
    "test_annotations = \"COCOAnnotations/testnew.json\"\n",
    "test_images = os.getcwd() + \"/MergeDataset/\"  # Assuming test images are in the same folder as train images\n",
    "test_dataset = import_dataset(test_annotations, test_images, \"BCCD_coco\")\n",
    "split_and_export(test_dataset, 'YOLO_dataset_test/labels')\n"
   ]
  },
  {
   "cell_type": "code",
   "execution_count": null,
   "metadata": {},
   "outputs": [],
   "source": [
    "import os\n",
    "import shutil\n",
    "from pathlib import Path\n",
    "\n",
    "# Define source and destination paths\n",
    "test_source = 'YOLO_dataset_test/labels'\n",
    "train_source = 'YOLO_dataset_train/labels'\n",
    "test_dest = 'YOLO_dataset/labels/test'\n",
    "train_dest = 'YOLO_dataset/labels/train'\n",
    "source_file = \"COCOAnnotations/dataset.yaml\"\n",
    "destination_dir = \"YOLO_dataset\"\n",
    "\n",
    "# Create main directories\n",
    "os.makedirs('YOLO_dataset/images/train', exist_ok=True)\n",
    "os.makedirs('YOLO_dataset/images/test', exist_ok=True)\n",
    "\n",
    "# Copy images from test and train directories\n",
    "shutil.copytree('YOLO_dataset_test/images', 'YOLO_dataset/images/test', dirs_exist_ok=True)\n",
    "shutil.copytree('YOLO_dataset_train/images', 'YOLO_dataset/images/train', dirs_exist_ok=True)\n",
    "\n",
    "# Copy label directories\n",
    "try:\n",
    "    shutil.copytree(test_source, test_dest)\n",
    "    shutil.copytree(train_source, train_dest)\n",
    "    print(\"Directories copied successfully!\")\n",
    "except FileExistsError:\n",
    "    print(\"Destination directories already exist. Remove or rename them and try again.\")\n",
    "except Exception as e:\n",
    "    print(f\"An error occurred: {e}\")\n",
    "\n",
    "# Copy dataset.yaml file\n",
    "shutil.copy(source_file, destination_dir)\n",
    "\n",
    "shutil.rmtree('YOLO_dataset_test')\n",
    "shutil.rmtree('YOLO_dataset_train')"
   ]
  },
  {
   "cell_type": "code",
   "execution_count": null,
   "metadata": {},
   "outputs": [],
   "source": [
    "# for k, v in model.named_parameters():\n",
    "    # print(k)"
   ]
  },
  {
   "cell_type": "code",
   "execution_count": null,
   "metadata": {},
   "outputs": [],
   "source": []
  },
  {
   "cell_type": "markdown",
   "metadata": {},
   "source": [
    "# Train Using Ultralytics Library"
   ]
  },
  {
   "cell_type": "code",
   "execution_count": null,
   "metadata": {},
   "outputs": [],
   "source": [
    "import os\n",
    "from ultralytics import YOLO\n",
    "\n",
    "# ROOT_DIR = '/Users/rishabhshah/Desktop/AIPI590/Object-Detection/YOLO_dataset'\n",
    "# ROOT_DIR = os.getcwd() + '\\YOLO_dataset'\n",
    "ROOT_DIR = os.getcwd() + '/yolo-data'\n",
    "\n",
    "\n",
    "# Load a model\n",
    "# model = YOLO(\"yolov8n.yaml\")  # build a new model from scratch\n",
    "model = YOLO('yolov5nu.pt')\n",
    "# model = YOLO('yolov5s6u.pt')\n",
    "# model = YOLO('yolo5s.pt')\n",
    "# model = YOLO('yolov8n.pt')\n",
    "# model = YOLO('yolov8s.pt')\n",
    "# model = YOLO('yolov8m.pt')\n",
    "# model = YOLO('yolov8l.pt')\n",
    "# model = YOLO('yolov8x.pt')\n",
    "\n",
    "\n",
    "# Freeze\n",
    "# freeze = [f'model.{x}.' for x in range(20)]  # layers to freeze\n",
    "# for k, v in model.named_parameters():\n",
    "#     v.requires_grad = True  # train all layers\n",
    "#     if any(x in k for x in freeze):\n",
    "#         # print(f'freezing {k}')\n",
    "#         v.requires_grad = False\n",
    "\n",
    "\n",
    "# Use the model\n",
    "# results = model.train(data=os.path.join(ROOT_DIR, \"dataset.yaml\"), epochs=2,project='saved_models/YOLO/',device='cuda',batch=4,workers=10)  # train the model\n",
    "results = model.train(data=os.path.join(ROOT_DIR, \"dataset.yaml\"), epochs=2,project='saved_models/YOLO/',device='mps',batch=32,workers=10)  # train the model"
   ]
  },
  {
   "cell_type": "markdown",
   "metadata": {},
   "source": [
    "# Train Using Ultralytics repo"
   ]
  },
  {
   "cell_type": "code",
   "execution_count": null,
   "metadata": {},
   "outputs": [],
   "source": [
    "!git clone https://github.com/ultralytics/yolov5"
   ]
  },
  {
   "cell_type": "code",
   "execution_count": null,
   "metadata": {},
   "outputs": [],
   "source": [
    "# !python3 yolov5/train.py --data /Users/rishabhshah/Desktop/AIPI590/Object-Detection/YOLO_dataset/dataset.yaml --weights yolov5s.pt --epochs 100 --batch 4 --freeze 10\n",
    "\n",
    "\n",
    "!python train.py --batch 128 --epochs 50 \\\n",
    "                 --data /Users/rishabhshah/Desktop/AIPI590/Object-Detection/YOLO_dataset/dataset.yaml \\\n",
    "                 --hyp /Users/rishabhshah/Desktop/AIPI590/Object-Detection/YOLO_dataset/dataset.yaml \\\n",
    "                 --weights yolov5l.pt \\\n",
    "                 --project  saved_models/YOLO/ \\\n",
    "                 --name YOLOv5_Final_Validation"
   ]
  },
  {
   "cell_type": "markdown",
   "metadata": {},
   "source": [
    "# Training from list of models"
   ]
  },
  {
   "cell_type": "code",
   "execution_count": null,
   "metadata": {},
   "outputs": [],
   "source": [
    "import os\n",
    "from ultralytics import YOLO\n",
    "\n",
    "# ROOT_DIR = '/Users/rishabhshah/Desktop/AIPI590/Object-Detection/YOLO_dataset'\n",
    "ROOT_DIR = os.getcwd() + '\\YOLO_dataset'\n",
    "\n",
    "\n",
    "\n",
    "model_list = [\n",
    "    # 'yolov5nu.pt',\n",
    "    # 'yolov5s6u.pt',\n",
    "    # 'yolov6-n.pt',\n",
    "    # 'yolov6-n.pt',\n",
    "    # 'yolov8n.pt',\n",
    "    # 'yolov8s.pt',\n",
    "    # 'yolov8m.pt',\n",
    "    'yolov9c.pt'\n",
    "]\n",
    "\n",
    "for model_name in model_list:\n",
    "\n",
    "    if os.path.exists(model_name.split(\".\")[0]):\n",
    "        print(\"Folder exists\")\n",
    "        continue\n",
    "\n",
    "    model = YOLO(model_name) \n",
    "    # Freeze\n",
    "    try:\n",
    "        freeze = [f'model.{x}.' for x in range(15)]  # layers to freeze\n",
    "        for k, v in model.named_parameters():\n",
    "            v.requires_grad = True  # train all layers\n",
    "            if any(x in k for x in freeze):\n",
    "                # print(f'freezing {k}')\n",
    "                v.requires_grad = False\n",
    "    except:\n",
    "        model = YOLO(model_name) \n",
    "\n",
    "\n",
    "    # Use the model\n",
    "    results = model.train(data=os.path.join(ROOT_DIR, \"dataset.yaml\"), epochs=500,project='saved_models/YOLO/',device='cuda',batch=8,workers=10,name=model_name.split('.')[0])  # train the model"
   ]
  },
  {
   "cell_type": "code",
   "execution_count": null,
   "metadata": {},
   "outputs": [],
   "source": [
    "import os\n",
    "from ultralytics import YOLO\n",
    "\n",
    "\n",
    "model_list = [\n",
    "    'yolov5nu.pt',\n",
    "    'yolov5s6u.pt',\n",
    "    # 'yolov6n.pt',\n",
    "    # 'yolov6s.pt',\n",
    "    'yolov8n.pt',\n",
    "    'yolov8s.pt',\n",
    "    'yolov8m.pt',\n",
    "    'yolov9c.pt'\n",
    "]\n",
    "\n",
    "\n",
    "# Perform validation\n",
    "for model_name in model_list:\n",
    "    model = YOLO(f'saved_models/YOLO/{model_name.split(\".\")[0]}/weights/best.pt')\n",
    "    results = model.val()"
   ]
  },
  {
   "cell_type": "code",
   "execution_count": null,
   "metadata": {},
   "outputs": [],
   "source": [
    "# model.predict()"
   ]
  },
  {
   "cell_type": "code",
   "execution_count": null,
   "metadata": {},
   "outputs": [],
   "source": []
  }
 ],
 "metadata": {
  "kernelspec": {
   "display_name": "Python 3",
   "language": "python",
   "name": "python3"
  },
  "language_info": {
   "codemirror_mode": {
    "name": "ipython",
    "version": 3
   },
   "file_extension": ".py",
   "mimetype": "text/x-python",
   "name": "python",
   "nbconvert_exporter": "python",
   "pygments_lexer": "ipython3",
   "version": "3.10.11"
  }
 },
 "nbformat": 4,
 "nbformat_minor": 2
}
