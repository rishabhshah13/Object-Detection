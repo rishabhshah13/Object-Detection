{
 "cells": [
  {
   "cell_type": "markdown",
   "metadata": {},
   "source": [
    "## Install Libraries\n",
    "1. python3 -m venv proj2env\n",
    "2. source proj2env/bin/activate\n",
    "3. pip install --upgrade pip\n",
    "4. pip install torch\n",
    "5. pip install torchvision\n",
    "6. pip install pybind11\n",
    "7. brew install pybind11"
   ]
  },
  {
   "cell_type": "code",
   "execution_count": null,
   "metadata": {},
   "outputs": [],
   "source": [
    "# one WSL\n",
    "# cd /mnt/c/Users/rs659/Desktop/Object-Detection\n",
    "# conda create --prefix=/mnt/c/Users/rs659/Desktop/Object-Detection/condaprojenv python=3.11.6\n",
    "# conda activate /mnt/c/Users/rs659/Desktop/Object-Detection/condaprojenv\n",
    "# conda install -p /mnt/c/Users/rs659/Desktop/Object-Detection/condaprojenv ipykernel --update-deps --force-reinstall\n",
    "# conda install pytorch==2.1.0 torchvision==0.16.0 torchaudio==2.1.0 pytorch-cuda=12.1 -c pytorch -c nvidia     DIDN'T WORK\n",
    "# conda install pytorch==2.1.1 torchvision==0.16.1 torchaudio==2.1.1 pytorch-cuda=12.1 -c pytorch -c nvidia     DIDN'T WORK\n",
    "# conda install pytorch==2.1.2 torchvision==0.16.2 torchaudio==2.1.2 pytorch-cuda=12.1 -c pytorch -c nvidia     DIDN'T WORK\n",
    "# conda install pytorch==2.2.0 torchvision==0.17.0 torchaudio==2.2.0 pytorch-cuda=12.1 -c pytorch -c nvidia\n",
    "# pip install ninja\n",
    "# pip install ultralytics\n",
    "# pip install 'git+https://github.com/facebookresearch/detectron2.git'\n",
    "\n",
    "\n",
    "\n",
    "# conda install cuda --channel nvidia/label/cuda-12.1.0\n",
    "# pip install torch==2.0.1 torchvision torchaudio --index-url https://download.pytorch.org/whl/cu121 DONT NOW\n",
    "# pip install torch==2.0.1 torchvision==0.15.2 torchaudio==2.0.2 --index-url https://download.pytorch.org/whl/cu118 TRYING NOW   #https://pytorch.org/get-started/previous-versions/\n",
    "# pip install git+https://github.com/casper-hansen/AutoAWQ.git\n",
    "# pip install vllm\n",
    "# pip install -U ipywidgets\n"
   ]
  },
  {
   "cell_type": "code",
   "execution_count": null,
   "metadata": {},
   "outputs": [],
   "source": [
    "# conda create --prefix \"C:\\\\Users\\\\rs659\\\\Desktop\\\\Object-Detection\\\\wincondaprojenv\" python=3.9\n",
    "# conda activate \"C:\\\\Users\\\\rs659\\\\Desktop\\\\Object-Detection\\\\wincondaprojenv\"\n",
    "# pip install cython\n",
    "# pip install numpy==1.23.5\n",
    "# pip install torch==2.1.0 torchvision==0.16.0 torchaudio==2.1.0 --index-url https://download.pytorch.org/whl/cu121\n",
    "# pip install git+https://github.com/philferriere/cocoapi.git#subdirectory=PythonAPI\n",
    "# pip install ninja\n",
    "# pip install ultralytics\n",
    "# pip install pillow\n",
    "# pip install pylabel\n",
    "# pip install kiwisolver\n",
    "# pip install git+https://github.com/facebookresearch/detectron2.git\n",
    "\n",
    "\n",
    "\n",
    "\n",
    "# git clone https://github.com/facebookresearch/detectron2.git\n",
    "# python -m pip install -e detectron2\n",
    "# pip install opencv-python\n"
   ]
  },
  {
   "cell_type": "code",
   "execution_count": null,
   "metadata": {},
   "outputs": [],
   "source": [
    "# conda create --prefix \"C:\\\\Users\\\\rs659\\\\Desktop\\\\Object-Detection\\\\wincondaprojenvtry\" python=3.9\n",
    "# conda activate \"C:\\\\Users\\\\rs659\\\\Desktop\\\\Object-Detection\\\\wincondaprojenvtry\"\n",
    "\n",
    "# pip install torch torchvision torchaudio -f https://download.pytorch.org/whl/cu121.0/torch_stable.html\n",
    "# pip install Cython==0.29.33 opencv-python==4.7.0.68 matplotlib==3.6.3 PyYAML==6.0 protobuf==4.21.12 ninja==1.11.1\n",
    "# cd detectron2\n",
    "# python setup.py build develop\n",
    "# pip install -e .\n"
   ]
  },
  {
   "cell_type": "code",
   "execution_count": null,
   "metadata": {},
   "outputs": [],
   "source": [
    "\n",
    "# Some basic setup:\n",
    "# Setup detectron2 logger\n",
    "import detectron2\n",
    "from detectron2.utils.logger import setup_logger\n",
    "setup_logger()\n",
    "\n",
    "# import some common libraries\n",
    "import numpy as np\n",
    "import os, json, cv2, random\n",
    "# from google.colab.patches import cv2_imshow\n",
    "\n",
    "# import some common detectron2 utilities\n",
    "from detectron2 import model_zoo\n",
    "from detectron2.engine import DefaultPredictor\n",
    "from detectron2.config import get_cfg\n",
    "from detectron2.utils.visualizer import Visualizer\n",
    "from detectron2.data import MetadataCatalog, DatasetCatalog"
   ]
  },
  {
   "cell_type": "code",
   "execution_count": null,
   "metadata": {},
   "outputs": [],
   "source": [
    "# https://github.com/akarazniewicz/cocosplit?tab=readme-ov-file\n",
    "# !python cocosplit.py --having-annotations --multi-class -s 0.8 DatasetDetectron2/annotations/output.json DatasetDetectron2/annotations/train.json DatasetDetectron2/annotations/test.json"
   ]
  },
  {
   "cell_type": "code",
   "execution_count": null,
   "metadata": {},
   "outputs": [],
   "source": [
    "from detectron2.data.datasets import register_coco_instances\n",
    "# register_coco_instances(\"Utensils_dataset\", {}, \"DatasetDetectron2/annotations/utensils_instances_default.json\", \"Dataset/Utensils\")\n",
    "# register_coco_instances(\"experiment\", {}, \"DatasetDetectron2/annotations/output.json\", \"MergeDataset/train/\")\n",
    "# register_coco_instances(\"Laptops_dataset\", {}, \"DatasetDetectron2/annotations/laptops_instances_default.json\", \"Dataset/Laptops/\")\n",
    "# register_coco_instances(\"Drinks_dataset\", {}, \"DatasetDetectron2/annotations/drinks_instances_default.json\", \"Dataset/Drinks/\")\n",
    "\n",
    "register_coco_instances(\"train_dataset\", {}, \"DatasetDetectron2/annotations/train.json\", \"MergeDataset/train/\")\n",
    "register_coco_instances(\"test_dataset\", {}, \"DatasetDetectron2/annotations/test.json\", \"MergeDataset/train/\")\n"
   ]
  },
  {
   "cell_type": "code",
   "execution_count": null,
   "metadata": {},
   "outputs": [],
   "source": [
    "sample_metadata = MetadataCatalog.get(\"train_dataset\")\n",
    "dataset_dicts = DatasetCatalog.get(\"train_dataset\")"
   ]
  },
  {
   "cell_type": "code",
   "execution_count": null,
   "metadata": {},
   "outputs": [],
   "source": [
    "import random\n",
    "from matplotlib import pyplot as plt\n",
    "\n",
    "\n",
    "for d in random.sample(dataset_dicts, 1):\n",
    "    print(d)\n",
    "    img = cv2.imread(d[\"file_name\"])\n",
    "    visualizer = Visualizer(img[:, :, ::-1], metadata=sample_metadata, scale=0.5)\n",
    "    vis = visualizer.draw_dataset_dict(d)\n",
    "    # cv2.imshow(\"preview\", vis.get_image()[:, :, ::-1])\n",
    "    # cv2.imshow(vis.get_image()[:, :, ::-1])\n",
    "    # cv2_imshow(vis.get_image()[:, :, ::-1])\n",
    "    # cv2.imwrite(out_file_name, result_image)\n",
    "    plt.imshow(vis.get_image()[:, :, ::-1])\n",
    "    plt.show()"
   ]
  },
  {
   "cell_type": "code",
   "execution_count": null,
   "metadata": {},
   "outputs": [],
   "source": [
    "from detectron2.engine import DefaultTrainer\n",
    "from detectron2.config import get_cfg\n",
    "import os\n",
    "\n",
    "cfg = get_cfg()\n",
    "cfg.merge_from_file(model_zoo.get_config_file(\"COCO-Detection/faster_rcnn_R_50_FPN_3x.yaml\"))\n",
    "# cfg.merge_from_file(model_zoo.get_config_file(\"COCO-Detection/faster_rcnn_R_101_FPN_3x.yaml\"))\n",
    "cfg.DATASETS.TRAIN = (\"train_dataset\",)\n",
    "# cfg.DATASETS.TRAIN = (\"train\",)\n",
    "# cfg.DATASETS.TRAIN = (\"Utensils_dataset\",\"Laptops_dataset\",\"Drinks_dataset\")\n",
    "cfg.DATASETS.TEST = (\"test_dataset\",)   # no metrics implemented for this dataset\n",
    "# cfg.DATASETS.TEST = ()   # no metrics implemented for this dataset\n",
    "cfg.DATALOADER.NUM_WORKERS = 2\n",
    "cfg.MODEL.WEIGHTS = model_zoo.get_checkpoint_url(\"COCO-Detection/faster_rcnn_R_50_FPN_3x.yaml\")# initialize from model zoo\n",
    "# cfg.MODEL.WEIGHTS = model_zoo.get_checkpoint_url(\"COCO-Detection/faster_rcnn_R_101_FPN_3x.yaml\")# initialize from model zoo\n",
    "cfg.SOLVER.IMS_PER_BATCH = 2\n",
    "cfg.SOLVER.BASE_LR = 0.02\n",
    "cfg.SOLVER.MAX_ITER = 30   # 300 iterations seems good enough, but you can certainly train longer\n",
    "cfg.MODEL.ROI_HEADS.BATCH_SIZE_PER_IMAGE = 128   # faster, and good enough for this toy dataset\n",
    "cfg.MODEL.ROI_HEADS.NUM_CLASSES = 3 # 3 classes (Person, Helmet, Car)\n",
    "cfg.MODEL.DEVICE = 'cuda'\n",
    "cfg.OUTPUT_DIR = 'models/FasterRCNN/'\n",
    "os.makedirs(cfg.OUTPUT_DIR, exist_ok=True)\n",
    "trainer = DefaultTrainer(cfg)\n",
    "trainer.resume_or_load(resume=True)\n",
    "trainer.train()"
   ]
  },
  {
   "cell_type": "code",
   "execution_count": null,
   "metadata": {},
   "outputs": [],
   "source": [
    "\n",
    "# # Look at training curves in tensorboard:\n",
    "# %load_ext tensorboard\n",
    "# %tensorboard --logdir output"
   ]
  },
  {
   "cell_type": "code",
   "execution_count": null,
   "metadata": {},
   "outputs": [],
   "source": [
    "\n",
    "cfg.MODEL.WEIGHTS = os.path.join(cfg.OUTPUT_DIR, \"model_final.pth\")\n",
    "cfg.MODEL.ROI_HEADS.SCORE_THRESH_TEST = 0.5   # set the testing threshold for this model\n",
    "# cfg.DATASETS.TEST = (\"experiment\",)\n",
    "cfg.DATASETS.TRAIN = (\"Utensils_dataset\",\"Laptops_dataset\",\"Drinks_dataset\")\n",
    "predictor = DefaultPredictor(cfg)"
   ]
  },
  {
   "cell_type": "code",
   "execution_count": null,
   "metadata": {},
   "outputs": [],
   "source": [
    "from detectron2.utils.visualizer import ColorMode\n",
    "\n",
    "for d in random.sample(dataset_dicts, 10):    \n",
    "    im = cv2.imread(d[\"file_name\"])\n",
    "    outputs = predictor(im)\n",
    "    v = Visualizer(im[:, :, ::-1],\n",
    "                   metadata=sample_metadata, \n",
    "                   scale=0.8, \n",
    "                   instance_mode=ColorMode.IMAGE_BW   # remove the colors of unsegmented pixels\n",
    "    )\n",
    "    v = v.draw_instance_predictions(outputs[\"instances\"].to(\"cpu\"))\n",
    "    # cv2_imshow(v.get_image()[:, :, ::-1])\n",
    "    plt.imshow(v.get_image()[:, :, ::-1])\n",
    "    plt.show()"
   ]
  },
  {
   "cell_type": "code",
   "execution_count": null,
   "metadata": {},
   "outputs": [],
   "source": []
  },
  {
   "cell_type": "code",
   "execution_count": null,
   "metadata": {},
   "outputs": [],
   "source": []
  }
 ],
 "metadata": {
  "kernelspec": {
   "display_name": "proj2env",
   "language": "python",
   "name": "python3"
  },
  "language_info": {
   "codemirror_mode": {
    "name": "ipython",
    "version": 3
   },
   "file_extension": ".py",
   "mimetype": "text/x-python",
   "name": "python",
   "nbconvert_exporter": "python",
   "pygments_lexer": "ipython3",
   "version": "3.11.8"
  }
 },
 "nbformat": 4,
 "nbformat_minor": 2
}
